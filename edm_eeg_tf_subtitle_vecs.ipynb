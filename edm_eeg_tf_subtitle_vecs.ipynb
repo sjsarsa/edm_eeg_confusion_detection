{
  "nbformat": 4,
  "nbformat_minor": 0,
  "metadata": {
    "colab": {
      "name": "EDM_EEG_subtitlevecs.ipynb",
      "version": "0.3.2",
      "provenance": [],
      "collapsed_sections": []
    },
    "kernelspec": {
      "name": "python3",
      "display_name": "Python 3"
    },
    "accelerator": "GPU"
  },
  "cells": [
    {
      "metadata": {
        "id": "Ktia-99qlzOJ",
        "colab_type": "text"
      },
      "cell_type": "markdown",
      "source": [
        "Running requires having the data on Google Drive or uploading the data to Colab via the left menu and setting the data path correctly.\n",
        "\n",
        "To use TPU, set \"tpu\" to True and hardware accelerator to \"TPU\" from Edit -> Notebook Settings"
      ]
    },
    {
      "metadata": {
        "id": "ePT0I-SulzyD",
        "colab_type": "code",
        "colab": {
          "base_uri": "https://localhost:8080/",
          "height": 125
        },
        "outputId": "54cd905a-635f-4f66-a117-e6d46e731456"
      },
      "cell_type": "code",
      "source": [
        "seed = 42\n",
        "import pandas as pd\n",
        "import numpy as np\n",
        "import random\n",
        "np.random.seed(seed)\n",
        "random.seed(seed)\n",
        "tpu = False\n",
        "from google.colab import drive\n",
        "drive.mount('/gdrive')\n",
        "data_path = '/gdrive/My Drive/Colab Notebooks/'"
      ],
      "execution_count": 1,
      "outputs": [
        {
          "output_type": "stream",
          "text": [
            "Go to this URL in a browser: https://accounts.google.com/o/oauth2/auth?client_id=947318989803-6bn6qk8qdgf4n4g3pfee6491hc0brc4i.apps.googleusercontent.com&redirect_uri=urn%3Aietf%3Awg%3Aoauth%3A2.0%3Aoob&scope=email%20https%3A%2F%2Fwww.googleapis.com%2Fauth%2Fdocs.test%20https%3A%2F%2Fwww.googleapis.com%2Fauth%2Fdrive%20https%3A%2F%2Fwww.googleapis.com%2Fauth%2Fdrive.photos.readonly%20https%3A%2F%2Fwww.googleapis.com%2Fauth%2Fpeopleapi.readonly&response_type=code\n",
            "\n",
            "Enter your authorization code:\n",
            "··········\n",
            "Mounted at /gdrive\n"
          ],
          "name": "stdout"
        }
      ]
    },
    {
      "metadata": {
        "id": "U1MXnzbScS6B",
        "colab_type": "code",
        "colab": {}
      },
      "cell_type": "code",
      "source": [
        "import os\n",
        "import tensorflow as tf\n",
        "# This address identifies the TPU we'll use when configuring TensorFlow.\n",
        "if tpu:\n",
        "  TPU_WORKER = 'grpc://' + os.environ['COLAB_TPU_ADDR']\n",
        "  tf.logging.set_verbosity(tf.logging.INFO)\n",
        "\n",
        "def tpu_compatibilitate(model):\n",
        "  if tpu: return tf.contrib.tpu.keras_to_tpu_model(\n",
        "      model, strategy=tf.contrib.tpu.TPUDistributionStrategy(\n",
        "              tf.contrib.cluster_resolver.TPUClusterResolver(TPU_WORKER)))\n",
        "  else: return model"
      ],
      "execution_count": 0,
      "outputs": []
    },
    {
      "metadata": {
        "id": "LIdDWtwHlstY",
        "colab_type": "text"
      },
      "cell_type": "markdown",
      "source": [
        "Read data"
      ]
    },
    {
      "metadata": {
        "id": "s7bgJDMUOQKN",
        "colab_type": "code",
        "outputId": "c2fe61da-5123-4cda-f359-337557429381",
        "colab": {
          "base_uri": "https://localhost:8080/",
          "height": 87
        }
      },
      "cell_type": "code",
      "source": [
        "data = pd.read_csv(data_path + 'EEG_data.csv')\n",
        "data.columns"
      ],
      "execution_count": 3,
      "outputs": [
        {
          "output_type": "execute_result",
          "data": {
            "text/plain": [
              "Index(['SubjectID', 'VideoID', 'Attention', 'Mediation', 'Raw', 'Delta',\n",
              "       'Theta', 'Alpha1', 'Alpha2', 'Beta1', 'Beta2', 'Gamma1', 'Gamma2',\n",
              "       'predefinedlabel', 'user-definedlabeln'],\n",
              "      dtype='object')"
            ]
          },
          "metadata": {
            "tags": []
          },
          "execution_count": 3
        }
      ]
    },
    {
      "metadata": {
        "id": "s3igFo2wZz4H",
        "colab_type": "text"
      },
      "cell_type": "markdown",
      "source": [
        "The labels for confusion are the same for each video by subject"
      ]
    },
    {
      "metadata": {
        "id": "xR2ziDnpY2KP",
        "colab_type": "code",
        "colab": {}
      },
      "cell_type": "code",
      "source": [
        "for subjId in set(data.SubjectID):\n",
        "  for vidId in set(data.VideoID):\n",
        "    assert data.query('SubjectID == {} and VideoID == {}'\n",
        "                     .format(subjId, vidId))['user-definedlabeln'].mean() in (0.0, 1.0)"
      ],
      "execution_count": 0,
      "outputs": []
    },
    {
      "metadata": {
        "id": "XS39to7ylnxY",
        "colab_type": "text"
      },
      "cell_type": "markdown",
      "source": [
        "Load subtitle vectors  \n"
      ]
    },
    {
      "metadata": {
        "id": "CZ4BFXIZVfYa",
        "colab_type": "code",
        "colab": {}
      },
      "cell_type": "code",
      "source": [
        "\n",
        "import numpy as np\n",
        "\"\"\"\n",
        "from csv\n",
        "\"\"\"\n",
        "#vid_dfs = pd.concat([pd.read_csv(notebook_path + 'subtitles/vid_{}_elmo_embedded_subs.csv'.format(i))\n",
        "#                     for i in range(10)], ignore_index=True\n",
        "#                   ).sort_values(['SubjectID', 'VideoID']).reset_index(drop=True)\n",
        "\n",
        "#vec_cols = [str(x) for x in range(1024)]\n",
        "\n",
        "#sub_vecs = vid_dfs[vec_cols].values.astype('float32')\n",
        "\n",
        "\"\"\"\n",
        "save/load from npy\n",
        "\"\"\"\n",
        "sub_vec_path = data_path + 'subtitle_vecs.npy'\n",
        "#np.save(sub_vec_path, sub_vecs)\n",
        "sub_vecs = np.load(sub_vec_path)\n",
        "sub_vec_dim = sub_vecs.shape[1]\n",
        "\n",
        "\"\"\"\n",
        "Make a dataset of original data combined with sub vecs \n",
        "\"\"\"\n",
        "dataset = np.hstack((data.values.astype('float32'), sub_vecs))"
      ],
      "execution_count": 0,
      "outputs": []
    },
    {
      "metadata": {
        "id": "BPnuOcx-lcHN",
        "colab_type": "text"
      },
      "cell_type": "markdown",
      "source": [
        "PCA to reduce subtitle vector dimensions. Speeds up training and also has the potential to increase performance"
      ]
    },
    {
      "metadata": {
        "id": "B4CpmAOtgaKI",
        "colab_type": "code",
        "colab": {}
      },
      "cell_type": "code",
      "source": [
        "from sklearn.decomposition import PCA\n",
        "\"\"\"\n",
        "PCA to reduce dimension of the word average vectors (might give better results)\n",
        "\"\"\"\n",
        "sub_vec_dim = 12\n",
        "pca = PCA(n_components=sub_vec_dim)\n",
        "pcad_sub_vecs = pca.fit_transform(sub_vecs)\n",
        "dataset = np.hstack((data.values.astype('float32'), pcad_sub_vecs))"
      ],
      "execution_count": 0,
      "outputs": []
    },
    {
      "metadata": {
        "id": "rKcDQdVTseQI",
        "colab_type": "code",
        "outputId": "5a6fb62b-1f2a-4392-9f39-408ade8e79f6",
        "colab": {
          "base_uri": "https://localhost:8080/",
          "height": 34
        }
      },
      "cell_type": "code",
      "source": [
        "dataset.shape"
      ],
      "execution_count": 7,
      "outputs": [
        {
          "output_type": "execute_result",
          "data": {
            "text/plain": [
              "(12811, 27)"
            ]
          },
          "metadata": {
            "tags": []
          },
          "execution_count": 7
        }
      ]
    },
    {
      "metadata": {
        "id": "I7B9Ra-blV4T",
        "colab_type": "text"
      },
      "cell_type": "markdown",
      "source": [
        "Preprocessing as is done in https://github.com/mehmani/DNNs-for-EEG-Signals/blob/master/DNNforEEFSignals.ipynb"
      ]
    },
    {
      "metadata": {
        "id": "KUxzySen19sD",
        "colab_type": "code",
        "outputId": "429ad2b4-3be2-4329-c211-9f2a92e3868a",
        "colab": {
          "base_uri": "https://localhost:8080/",
          "height": 34
        }
      },
      "cell_type": "code",
      "source": [
        "\n",
        "import numpy as np\n",
        "from sklearn.preprocessing import MinMaxScaler\n",
        "\n",
        "def NormSignal(S, I):\n",
        "    #normalize features\n",
        "    S=S.reshape(-1, 1)\n",
        "    if I not in [0, 1, 13, 14]:\n",
        "        scaler = MinMaxScaler(feature_range=(0, 1))\n",
        "        scaled = scaler.fit_transform(S)\n",
        "        scaled = scaled\n",
        "    else:\n",
        "        scaled = S\n",
        "    return scaled.reshape(-1).tolist()\n",
        "\n",
        "NormDataG = np.array([NormSignal(dataset[:,i], i) for i in range(dataset.shape[1])]).T\n",
        "print(NormDataG.shape)"
      ],
      "execution_count": 8,
      "outputs": [
        {
          "output_type": "stream",
          "text": [
            "(12811, 27)\n"
          ],
          "name": "stdout"
        }
      ]
    },
    {
      "metadata": {
        "id": "MR5eZ3s7lK90",
        "colab_type": "text"
      },
      "cell_type": "markdown",
      "source": [
        "Additional metrics besides accuracy to have more information on model performance "
      ]
    },
    {
      "metadata": {
        "id": "BysnXtp2TajI",
        "colab_type": "code",
        "colab": {}
      },
      "cell_type": "code",
      "source": [
        "from sklearn.metrics import roc_auc_score, f1_score\n",
        "from tensorflow.keras.callbacks import Callback\n",
        "\n",
        "class f1_auc_callback(Callback):\n",
        "    def __init__(self, X_test, y_test, f1s, roc_aucs):\n",
        "        self.X_test = X_test\n",
        "        self.y_test = y_test.flatten()\n",
        "        self.f1s = f1s\n",
        "        self.roc_aucs = roc_aucs\n",
        "\n",
        "    def on_train_end(self, epoch, logs={}):\n",
        "        y_pred = self.model.predict_proba(self.X_test, verbose=0).flatten()\n",
        "        roc_test = roc_auc_score(self.y_test, y_pred)\n",
        "        f1_test = f1_score(self.y_test, np.round(y_pred))\n",
        "        #print('\\r rocauc %s f1 %s' % (str(roc_test), str(f1_test)), end=10*' ' + '\\n')\n",
        "        self.f1s.append(roc_test)\n",
        "        self.roc_aucs.append(f1_test)\n",
        "        return \n"
      ],
      "execution_count": 0,
      "outputs": []
    },
    {
      "metadata": {
        "id": "qNHwH7LnTqAi",
        "colab_type": "text"
      },
      "cell_type": "markdown",
      "source": [
        "Model from the paper \"confused or not confused\""
      ]
    },
    {
      "metadata": {
        "id": "fXrP2NC1LI57",
        "colab_type": "code",
        "colab": {}
      },
      "cell_type": "code",
      "source": [
        "from tensorflow.keras.datasets import imdb\n",
        "from tensorflow.keras.preprocessing import sequence\n",
        "from tensorflow.keras.models import Sequential\n",
        "from tensorflow.python.keras.layers import BatchNormalization\n",
        "from tensorflow.python.keras.layers import Input, LSTM, Bidirectional, Dense, Flatten, Dropout, TimeDistributed, Conv2D, MaxPooling2D, Masking\n",
        "\n",
        "def get_model_timedist(intervals, n_dim=11):\n",
        "    model = Sequential([\n",
        "        #Masking(mask_value=0, input_shape=(A, n_dim)), # Masking does not help for some reason (should help with padded data?)\n",
        "        BatchNormalization(input_shape=(intervals, n_dim), axis=2), # New version of keras doesn't support \"mode\" attribute, which was used in the original code (mode=0)\n",
        "        Bidirectional(LSTM(50, return_sequences=False, activation='selu'), input_shape=(intervals, n_dim)),\n",
        "        Dense(intervals, activation='sigmoid')\n",
        "    ])\n",
        "    model.compile(loss='binary_crossentropy', optimizer='RMSprop',\n",
        "                  metrics=['binary_accuracy'])\n",
        "    return model, (-1, intervals, n_dim)\n"
      ],
      "execution_count": 0,
      "outputs": []
    },
    {
      "metadata": {
        "id": "Is6B2tJiTnZp",
        "colab_type": "text"
      },
      "cell_type": "markdown",
      "source": [
        "Model from the paper \"confused or not confused\" with binary output per data point"
      ]
    },
    {
      "metadata": {
        "id": "7qF7LfkrvpA1",
        "colab_type": "code",
        "colab": {}
      },
      "cell_type": "code",
      "source": [
        "def get_model(intervals, n_dim=11):\n",
        "    model = Sequential([\n",
        "        #Masking(mask_value=0, input_shape=(A, n_dim)), # Masking does not help for some reason (should help with padded data?)\n",
        "        BatchNormalization(input_shape=(intervals, n_dim), axis=2),\n",
        "        Bidirectional(LSTM(50, return_sequences=False, activation='selu'), input_shape=(intervals, n_dim)),\n",
        "        #Dropout(0.2),\n",
        "        Dense(1, activation='sigmoid')\n",
        "    ])\n",
        "    model.compile(loss='binary_crossentropy', optimizer='adam',\n",
        "                  metrics=['acc'])\n",
        "    return model, (-1, intervals, n_dim)"
      ],
      "execution_count": 0,
      "outputs": []
    },
    {
      "metadata": {
        "id": "dUot5fpLTekE",
        "colab_type": "text"
      },
      "cell_type": "markdown",
      "source": [
        "Model from https://github.com/mehmani/DNNs-for-EEG-Signals"
      ]
    },
    {
      "metadata": {
        "id": "C56mNBEsON09",
        "colab_type": "code",
        "colab": {}
      },
      "cell_type": "code",
      "source": [
        "def get_mehmani_model(intervals, n_dim=11):\n",
        "    model = Sequential()\n",
        "    model.add(TimeDistributed(Conv2D(20, (5,5), activation='relu'),\n",
        "              input_shape=(1, intervals, n_dim, 1)))\n",
        "    model.add(Dropout(0.5))\n",
        "    model.add(TimeDistributed(MaxPooling2D(pool_size=(2, 2))))\n",
        "    model.add(TimeDistributed(Flatten()))\n",
        "    model.add(LSTM(10, return_sequences=True))\n",
        "    model.add(Dropout(0.5))\n",
        "    model.add(Bidirectional(LSTM(20, return_sequences=True)))\n",
        "    model.add(LSTM(10))\n",
        "    model.add(Dense(1, activation='sigmoid'))\n",
        "    model.compile(loss='binary_crossentropy', optimizer='adam', metrics=['acc'])\n",
        "    return model, (-1, 1, intervals, n_dim, 1)"
      ],
      "execution_count": 0,
      "outputs": []
    },
    {
      "metadata": {
        "id": "rGzLNvsWiJEQ",
        "colab_type": "text"
      },
      "cell_type": "markdown",
      "source": [
        "Functions for making the data amount of intervals the same for each data point"
      ]
    },
    {
      "metadata": {
        "id": "9C1tx41gY163",
        "colab_type": "code",
        "colab": {
          "base_uri": "https://localhost:8080/",
          "height": 52
        },
        "outputId": "817e43c4-81da-4c04-8135-727ac3506c14"
      },
      "cell_type": "code",
      "source": [
        "def min_max_rows_per_subject_vid(X):\n",
        "  VideoID = list(set(X[:,1]))\n",
        "  SubjectID = list(set(X[:,0]))\n",
        "\n",
        "  max_intervals = 0 # length of signal\n",
        "  min_intervals = len(X)\n",
        "  \n",
        "  for subId in SubjectID:\n",
        "      for vidId in VideoID:\n",
        "          X_tmp=X[(X[:, 0] == subId) & (X[:, 1] == vidId)]\n",
        "          max_intervals = max(len(X_tmp), max_intervals)\n",
        "          min_intervals = min(len(X_tmp), min_intervals)\n",
        "  print(max_intervals)\n",
        "  print(min_intervals)\n",
        "  assert max_intervals == 144\n",
        "  return min_intervals, max_intervals\n",
        "\n",
        "min_intervals, max_intervals = min_max_rows_per_subject_vid(dataset)\n",
        "\n",
        "\n",
        "def zero_pad_data(X, max_intervals, y_col):\n",
        "  # Manual Padding to fixed size:\n",
        "    X_pad = None\n",
        "    VideoID = list(set(X[:,1]))\n",
        "    SubjectID = list(set(X[:,0])) \n",
        "    for subId in SubjectID:\n",
        "        for vidId in VideoID:\n",
        "            X_sv = X[(X[:,0]==subId) & (X[:,1]==vidId)]\n",
        "            pad_len = max_intervals - X_sv.shape[0]\n",
        "            \n",
        "            z = np.zeros((pad_len, X_sv.shape[1]), dtype=X_sv.dtype)\n",
        "            z[:,0] = X_sv[:,0][pad_len]\n",
        "            z[:,1] = X_sv[:,1][pad_len]\n",
        "            z[:,y_col] = X_sv[:,y_col][pad_len]\n",
        "            \n",
        "            X_sv_pad = np.concatenate((X_sv, z), axis=0)\n",
        "            X_sv_pad = X_sv_pad.reshape(1, max_intervals, -1)\n",
        "\n",
        "            X_pad = X_sv_pad if X_pad is None else np.vstack((X_pad,X_sv_pad))\n",
        "            \n",
        "    return X_pad\n",
        "\n",
        "def truncate_data(X, min_intervals, y_col):\n",
        "    X_trunc = None\n",
        "    VideoID = list(set(X[:,1]))\n",
        "    SubjectID = list(set(X[:,0]))\n",
        "    for vidId in VideoID:\n",
        "      for subId in SubjectID:\n",
        "          X_sv = X[(X[:,0]==subId) & (X[:,1]==vidId)]\n",
        "          trunc_len = min_intervals\n",
        "          X_sv_trunc = X_sv[0:trunc_len].reshape(1, min_intervals, -1)\n",
        "          X_trunc = X_sv_trunc if X_trunc is None else np.vstack((X_trunc, X_sv_trunc))\n",
        "    return X_trunc\n",
        "\n",
        "\n"
      ],
      "execution_count": 13,
      "outputs": [
        {
          "output_type": "stream",
          "text": [
            "144\n",
            "112\n"
          ],
          "name": "stdout"
        }
      ]
    },
    {
      "metadata": {
        "id": "0L2NggfwhVsj",
        "colab_type": "text"
      },
      "cell_type": "markdown",
      "source": [
        "Define target variable and which variables to use for training"
      ]
    },
    {
      "metadata": {
        "id": "1roletOchUkD",
        "colab_type": "code",
        "colab": {}
      },
      "cell_type": "code",
      "source": [
        "\n",
        "y_col = 13 # The student's confusion column\n",
        "orig_train_data_cols = list(range(2,14))\n",
        "vector_cols = list(np.arange(sub_vec_dim) + 15) \n",
        "\n",
        "train_cols = orig_train_data_cols\n",
        "n_dim = len(train_cols)"
      ],
      "execution_count": 0,
      "outputs": []
    },
    {
      "metadata": {
        "id": "ZDoCgF4Yhx7T",
        "colab_type": "text"
      },
      "cell_type": "markdown",
      "source": [
        "Cross-validation"
      ]
    },
    {
      "metadata": {
        "id": "5dGDbJpDS_Pv",
        "colab_type": "code",
        "colab": {}
      },
      "cell_type": "code",
      "source": [
        "\n",
        "from time import time\n",
        "\n",
        "def train_eval_model(model, X_train, y_train, X_test, y_test, train_cols, intervals,\n",
        "                     epochs=20, batch_size=20, verbose=1): \n",
        "    start = time()\n",
        "    \n",
        "    f1s = []\n",
        "    roc_aucs = []\n",
        "    history = model.fit(X_train, y_train, epochs=epochs, batch_size=batch_size,\n",
        "                        validation_data=(X_test, y_test), verbose=verbose,\n",
        "                        shuffle=True,\n",
        "                        callbacks=[f1_auc_callback(X_test, y_test,\n",
        "                                                   f1s, roc_aucs)])\n",
        "    print('model trained in {:.3f} seconds'.format(time() - start))\n",
        "\n",
        "    loss, acc = model.evaluate(X_test, y_test, verbose=0)\n",
        "\n",
        "    return (acc, np.nanmean(f1s), np.nanmean(roc_aucs), history)\n",
        "\n",
        " \n",
        "def cross_validate(model, X_shape, data, y_col, train_cols, intervals, even_data, n_test=2,\n",
        "                   time_distributed=False, verbose=1, epochs=50, batch_size=20):\n",
        "  \"\"\"\n",
        "  even_data: either truncate_data or zero_pad_data to make number of intervals\n",
        "             even for each data point\n",
        "  \"\"\"\n",
        "  results = []\n",
        "  initial_weights = model.get_weights()\n",
        "\n",
        "  for i in range(0, 10, n_test):\n",
        "    model.set_weights(initial_weights) # Reset weights to forget training done on current iteration's test data  \n",
        "    \n",
        "    data_train = even_data(data[np.in1d(data[:,0], (i, i+1), invert=True)], intervals, y_col=y_col)\n",
        "    data_test = even_data(data[np.in1d(data[:,0], (i, i+1))], intervals, y_col=y_col)\n",
        "    X_train = data_train[:, :, train_cols]\n",
        "    y_train = data_train[:, :, y_col]\n",
        "    X_test = data_test[:, :, train_cols]\n",
        "    y_test = data_test[:, :, y_col]\n",
        "\n",
        "    X_train = X_train.reshape(X_shape)\n",
        "    X_test = X_test.reshape(X_shape)\n",
        "    if not time_distributed: \n",
        "      y_train = y_train.reshape(-1, intervals).mean(axis=1)\n",
        "      y_test = y_test.reshape(-1, intervals).mean(axis=1)\n",
        "    \n",
        "    if verbose > 1: \n",
        "      print('Xtrain shape', X_train.shape)\n",
        "      print('Xtest shape', X_test.shape)\n",
        "    \n",
        "      print('ytrain shape', y_train.shape)\n",
        "      print('ytest shape', y_test.shape)\n",
        "\n",
        "    start = time()\n",
        "    print('{}-fold cross validation, iteration {}'\n",
        "          .format(int(10/n_test), len(results) +1), end=' ')\n",
        "    acc, f1, roc_auc, history = train_eval_model(model, X_train, y_train,\n",
        "                                                 X_test, y_test,\n",
        "                                                 train_cols, intervals,\n",
        "                                                 epochs=epochs, batch_size=batch_size,\n",
        "                                                 verbose=verbose)\n",
        "    \n",
        "    results.append({'acc': acc, 'F1': f1, 'ROC-AUC': roc_auc})\n",
        "    if verbose > 0:\n",
        "      print('current cross-validation mean accuracy: {:.3f}, F1: {:.3f}, and ROC-AUC: {:.3f}'.format(\n",
        "            *[np.mean([r[key] for r in results]) for key in results[0].keys()]))\n",
        "      print('iteration time: {:.3f} seconds'.format(time() - start))\n",
        "\n",
        "  return results\n",
        "\n"
      ],
      "execution_count": 0,
      "outputs": []
    },
    {
      "metadata": {
        "id": "UOITx3kdgM6H",
        "colab_type": "code",
        "colab": {}
      },
      "cell_type": "code",
      "source": [
        "\"\"\"\n",
        "Suppress warnings\n",
        "\"\"\"\n",
        "import warnings\n",
        "\n",
        "def warn(*args, **kwargs):\n",
        "    pass\n",
        "\n",
        "old_warn = warnings.warn\n",
        "warnings.warn = warn"
      ],
      "execution_count": 0,
      "outputs": []
    },
    {
      "metadata": {
        "id": "h9FvI1MClcAv",
        "colab_type": "code",
        "colab": {
          "base_uri": "https://localhost:8080/",
          "height": 105
        },
        "outputId": "02222c39-ce7e-4dfb-b3ea-a1768e29f520"
      },
      "cell_type": "code",
      "source": [
        "\"\"\"\n",
        "Test the model from the paper \"Confused or not confused\" for pre-defined labels\n",
        "\"\"\"\n",
        "y_col = 13\n",
        "train_cols = orig_train_data_cols[:-1]\n",
        "n_dim = len(train_cols)\n",
        "model, input_shape = get_model_timedist(min_intervals, n_dim)\n",
        "tpu_model = tpu_compatibilitate(model)\n",
        "\n",
        "results = cross_validate(model=tpu_model, X_shape=input_shape, data=dataset,\n",
        "                         y_col=y_col, train_cols=train_cols, \n",
        "                         time_distributed=True, intervals=min_intervals,\n",
        "                         even_data=truncate_data, n_test=2, verbose=0, epochs=2,\n",
        "                         batch_size=20)"
      ],
      "execution_count": 17,
      "outputs": [
        {
          "output_type": "stream",
          "text": [
            "5-fold cross validation, iteration 1 model trained in 11.694 seconds\n",
            "5-fold cross validation, iteration 2 model trained in 7.079 seconds\n",
            "5-fold cross validation, iteration 3 model trained in 7.084 seconds\n",
            "5-fold cross validation, iteration 4 model trained in 6.992 seconds\n",
            "5-fold cross validation, iteration 5 model trained in 7.020 seconds\n"
          ],
          "name": "stdout"
        }
      ]
    },
    {
      "metadata": {
        "id": "HTBIwC-llfuO",
        "colab_type": "code",
        "colab": {
          "base_uri": "https://localhost:8080/",
          "height": 122
        },
        "outputId": "d18f1d69-ff2b-450c-a9d2-ff9de38c0610"
      },
      "cell_type": "code",
      "source": [
        "print(*results, sep='\\n')\n",
        "print('cross-validation mean accuracy: {:.3f}, f1: {:.3f}, and roc-auc: {:.3f}'.format(\n",
        "       *[np.mean([r[key] for r in results]) for key in results[0].keys()]))"
      ],
      "execution_count": 18,
      "outputs": [
        {
          "output_type": "stream",
          "text": [
            "{'acc': 0.4906249940395355, 'F1': 0.4733027742346939, 'ROC-AUC': 0.4768454837230628}\n",
            "{'acc': 0.4950892925262451, 'F1': 0.4925988520408163, 'ROC-AUC': 0.47663118926422954}\n",
            "{'acc': 0.4928571283817291, 'F1': 0.4996452487244898, 'ROC-AUC': 0.48032936870997256}\n",
            "{'acc': 0.5133928656578064, 'F1': 0.49435825892857144, 'ROC-AUC': 0.5189761694616064}\n",
            "{'acc': 0.49866074323654175, 'F1': 0.5015397799744897, 'ROC-AUC': 0.49888442659526994}\n",
            "cross-validation mean accuracy: 0.498, f1: 0.492, and roc-auc: 0.490\n"
          ],
          "name": "stdout"
        }
      ]
    },
    {
      "metadata": {
        "id": "xHpGmWw8m7C6",
        "colab_type": "code",
        "colab": {}
      },
      "cell_type": "code",
      "source": [
        "def test_model(name, get_model, y_col, data, time_dist=False, use_sub_vecs=False, truncate=True, epochs=2):\n",
        "    print('Cross-validation: {}\\n'.format(name))\n",
        "    train_cols = list(range(2,y_col))\n",
        "    if use_sub_vecs: train_cols += vector_cols\n",
        "    n_dim = len(train_cols)\n",
        "    intervals = min_intervals if truncate else max_intervals\n",
        "    even_data = truncate_data if truncate else zero_pad_data\n",
        "    \n",
        "    start = time()\n",
        "    \n",
        "    model, input_shape = get_model(intervals, n_dim)\n",
        "    tpu_model = tpu_compatibilitate(model)\n",
        "    \n",
        "    results = cross_validate(model=tpu_model, X_shape=input_shape, data=data,\n",
        "                         y_col=y_col, train_cols=train_cols, \n",
        "                         time_distributed=time_dist,\n",
        "                         intervals=intervals, even_data=even_data,\n",
        "                         n_test=2, verbose=0, epochs=epochs, batch_size=20)\n",
        "    \n",
        "    print(*results, sep='\\n')\n",
        "    result_summary = '\\nCross-validation: {} mean accuracy: {:.3f}, f1: {:.3f}, and roc-auc: {:.3f}'.format(name, \n",
        "         *[np.mean([r[key] for r in results]) for key in results[0].keys()])\n",
        "    print(result_summary)\n",
        "    print('cross validation total time: {:.4f} min\\n'.format((time() - start) / 60))\n",
        "    return result_summary"
      ],
      "execution_count": 0,
      "outputs": []
    },
    {
      "metadata": {
        "id": "JkdnBdVnosFi",
        "colab_type": "code",
        "colab": {
          "base_uri": "https://localhost:8080/",
          "height": 6795
        },
        "outputId": "49d867c2-afa4-46d1-f420-1c42d13126fd"
      },
      "cell_type": "code",
      "source": [
        "result_dict = {}\n",
        "for modelname, model in {'lstm50': get_model, 'confused': get_model_timedist, 'mehmani': get_mehmani_model}.items():\n",
        "  for label_col in (13, 14):\n",
        "    for truncate in (True, False):\n",
        "      for use_sub_vecs in (False, True):\n",
        "        label = 'student-defined' if label_col == 14 else 'pre-defined'\n",
        "        data_evening = 'truncated' if truncate else 'zero padded'\n",
        "        sub_vec_usage = 'with subtitle vectors' if use_sub_vecs else 'without subtitle vectors'\n",
        "        \n",
        "        name = '{} model for {} labels with {} data and {}'.format(\n",
        "                modelname, label, data_evening, sub_vec_usage)\n",
        "        time_dist = modelname == 'confused'\n",
        "        data = dataset if modelname != 'mehmani' else NormDataG\n",
        "        result_summary = test_model(name, model, label_col, data, time_dist,\n",
        "                                  use_sub_vecs, truncate, epochs=40)\n",
        "        result_dict[name] = result_summary"
      ],
      "execution_count": 20,
      "outputs": [
        {
          "output_type": "stream",
          "text": [
            "Cross-validation: lstm50 model for pre-defined labels with truncated data and without subtitle vectors\n",
            "\n",
            "5-fold cross validation, iteration 1 model trained in 140.493 seconds\n",
            "5-fold cross validation, iteration 2 model trained in 135.637 seconds\n",
            "5-fold cross validation, iteration 3 model trained in 135.922 seconds\n",
            "5-fold cross validation, iteration 4 model trained in 136.335 seconds\n",
            "5-fold cross validation, iteration 5 model trained in 135.889 seconds\n",
            "{'acc': 0.75, 'F1': 0.9, 'ROC-AUC': 0.7826086956521738}\n",
            "{'acc': 0.550000011920929, 'F1': 0.5900000000000001, 'ROC-AUC': 0.64}\n",
            "{'acc': 0.6000000238418579, 'F1': 0.5700000000000001, 'ROC-AUC': 0.6}\n",
            "{'acc': 0.699999988079071, 'F1': 0.76, 'ROC-AUC': 0.75}\n",
            "{'acc': 0.30000001192092896, 'F1': 0.32, 'ROC-AUC': 0.3}\n",
            "\n",
            "Cross-validation: lstm50 model for pre-defined labels with truncated data and without subtitle vectors mean accuracy: 0.580, f1: 0.628, and roc-auc: 0.615\n",
            "cross validation total time: 11.4516 min\n",
            "\n",
            "Cross-validation: lstm50 model for pre-defined labels with truncated data and with subtitle vectors\n",
            "\n",
            "5-fold cross validation, iteration 1 model trained in 142.033 seconds\n",
            "5-fold cross validation, iteration 2 model trained in 136.446 seconds\n",
            "5-fold cross validation, iteration 3 model trained in 137.166 seconds\n",
            "5-fold cross validation, iteration 4 model trained in 136.871 seconds\n",
            "5-fold cross validation, iteration 5 model trained in 137.653 seconds\n",
            "{'acc': 0.6000000238418579, 'F1': 0.6, 'ROC-AUC': 0.33333333333333337}\n",
            "{'acc': 0.699999988079071, 'F1': 0.65, 'ROC-AUC': 0.7}\n",
            "{'acc': 0.6499999761581421, 'F1': 0.7300000000000001, 'ROC-AUC': 0.6956521739130435}\n",
            "{'acc': 0.6499999761581421, 'F1': 0.59, 'ROC-AUC': 0.588235294117647}\n",
            "{'acc': 0.550000011920929, 'F1': 0.63, 'ROC-AUC': 0.608695652173913}\n",
            "\n",
            "Cross-validation: lstm50 model for pre-defined labels with truncated data and with subtitle vectors mean accuracy: 0.630, f1: 0.640, and roc-auc: 0.585\n",
            "cross validation total time: 11.5580 min\n",
            "\n",
            "Cross-validation: lstm50 model for pre-defined labels with zero padded data and without subtitle vectors\n",
            "\n",
            "5-fold cross validation, iteration 1 model trained in 181.424 seconds\n",
            "5-fold cross validation, iteration 2 model trained in 176.454 seconds\n",
            "5-fold cross validation, iteration 3 model trained in 176.047 seconds\n",
            "5-fold cross validation, iteration 4 model trained in 175.702 seconds\n",
            "5-fold cross validation, iteration 5 model trained in 175.048 seconds\n",
            "{'acc': 0.75, 'F1': 0.91, 'ROC-AUC': 0.761904761904762}\n",
            "{'acc': 0.699999988079071, 'F1': 0.81, 'ROC-AUC': 0.7272727272727272}\n",
            "{'acc': 0.699999988079071, 'F1': 0.6299999999999999, 'ROC-AUC': 0.6666666666666665}\n",
            "{'acc': 0.5, 'F1': 0.5700000000000001, 'ROC-AUC': 0.37499999999999994}\n",
            "{'acc': 0.6000000238418579, 'F1': 0.55, 'ROC-AUC': 0.6}\n",
            "\n",
            "Cross-validation: lstm50 model for pre-defined labels with zero padded data and without subtitle vectors mean accuracy: 0.650, f1: 0.694, and roc-auc: 0.626\n",
            "cross validation total time: 14.8116 min\n",
            "\n",
            "Cross-validation: lstm50 model for pre-defined labels with zero padded data and with subtitle vectors\n",
            "\n",
            "5-fold cross validation, iteration 1 model trained in 182.955 seconds\n",
            "5-fold cross validation, iteration 2 model trained in 177.015 seconds\n",
            "5-fold cross validation, iteration 3 model trained in 176.544 seconds\n",
            "5-fold cross validation, iteration 4 model trained in 176.975 seconds\n",
            "5-fold cross validation, iteration 5 model trained in 177.605 seconds\n",
            "{'acc': 0.800000011920929, 'F1': 0.8700000000000001, 'ROC-AUC': 0.8181818181818182}\n",
            "{'acc': 0.8500000238418579, 'F1': 0.8099999999999999, 'ROC-AUC': 0.8695652173913044}\n",
            "{'acc': 0.5, 'F1': 0.5, 'ROC-AUC': 0.6153846153846154}\n",
            "{'acc': 0.6499999761581421, 'F1': 0.67, 'ROC-AUC': 0.7407407407407407}\n",
            "{'acc': 0.699999988079071, 'F1': 0.75, 'ROC-AUC': 0.7692307692307693}\n",
            "\n",
            "Cross-validation: lstm50 model for pre-defined labels with zero padded data and with subtitle vectors mean accuracy: 0.700, f1: 0.720, and roc-auc: 0.763\n",
            "cross validation total time: 14.9257 min\n",
            "\n",
            "Cross-validation: lstm50 model for student-defined labels with truncated data and without subtitle vectors\n",
            "\n",
            "5-fold cross validation, iteration 1 model trained in 143.833 seconds\n",
            "5-fold cross validation, iteration 2 model trained in 134.073 seconds\n",
            "5-fold cross validation, iteration 3 model trained in 132.883 seconds\n",
            "5-fold cross validation, iteration 4 model trained in 132.753 seconds\n",
            "5-fold cross validation, iteration 5 model trained in 132.185 seconds\n",
            "{'acc': 0.3499999940395355, 'F1': 0.48484848484848486, 'ROC-AUC': 0.380952380952381}\n",
            "{'acc': 0.4000000059604645, 'F1': 0.43, 'ROC-AUC': 0.25}\n",
            "{'acc': 0.75, 'F1': 0.84375, 'ROC-AUC': 0.8148148148148148}\n",
            "{'acc': 0.550000011920929, 'F1': 0.6464646464646464, 'ROC-AUC': 0.6086956521739131}\n",
            "{'acc': 0.5, 'F1': 0.6767676767676767, 'ROC-AUC': 0.6153846153846153}\n",
            "\n",
            "Cross-validation: lstm50 model for student-defined labels with truncated data and without subtitle vectors mean accuracy: 0.510, f1: 0.616, and roc-auc: 0.534\n",
            "cross validation total time: 11.3381 min\n",
            "\n",
            "Cross-validation: lstm50 model for student-defined labels with truncated data and with subtitle vectors\n",
            "\n",
            "5-fold cross validation, iteration 1 model trained in 140.292 seconds\n",
            "5-fold cross validation, iteration 2 model trained in 133.097 seconds\n",
            "5-fold cross validation, iteration 3 model trained in 133.046 seconds\n",
            "5-fold cross validation, iteration 4 model trained in 133.089 seconds\n",
            "5-fold cross validation, iteration 5 model trained in 132.965 seconds\n",
            "{'acc': 0.550000011920929, 'F1': 0.595959595959596, 'ROC-AUC': 0.5263157894736842}\n",
            "{'acc': 0.3499999940395355, 'F1': 0.38999999999999996, 'ROC-AUC': 0.13333333333333333}\n",
            "{'acc': 0.5, 'F1': 0.4479166666666667, 'ROC-AUC': 0.4444444444444444}\n",
            "{'acc': 0.6000000238418579, 'F1': 0.6212121212121212, 'ROC-AUC': 0.6666666666666667}\n",
            "{'acc': 0.550000011920929, 'F1': 0.4040404040404041, 'ROC-AUC': 0.5714285714285715}\n",
            "\n",
            "Cross-validation: lstm50 model for student-defined labels with truncated data and with subtitle vectors mean accuracy: 0.510, f1: 0.492, and roc-auc: 0.468\n",
            "cross validation total time: 11.2976 min\n",
            "\n",
            "Cross-validation: lstm50 model for student-defined labels with zero padded data and without subtitle vectors\n",
            "\n",
            "5-fold cross validation, iteration 1 model trained in 178.352 seconds\n",
            "5-fold cross validation, iteration 2 model trained in 170.479 seconds\n",
            "5-fold cross validation, iteration 3 model trained in 170.390 seconds\n",
            "5-fold cross validation, iteration 4 model trained in 170.496 seconds\n",
            "5-fold cross validation, iteration 5 model trained in 170.287 seconds\n",
            "{'acc': 0.699999988079071, 'F1': 0.8989898989898989, 'ROC-AUC': 0.7499999999999999}\n",
            "{'acc': 0.6000000238418579, 'F1': 0.45000000000000007, 'ROC-AUC': 0.4285714285714285}\n",
            "{'acc': 0.550000011920929, 'F1': 0.5, 'ROC-AUC': 0.6086956521739131}\n",
            "{'acc': 0.550000011920929, 'F1': 0.41414141414141414, 'ROC-AUC': 0.6896551724137931}\n",
            "{'acc': 0.4000000059604645, 'F1': 0.43434343434343425, 'ROC-AUC': 0.5}\n",
            "\n",
            "Cross-validation: lstm50 model for student-defined labels with zero padded data and without subtitle vectors mean accuracy: 0.560, f1: 0.539, and roc-auc: 0.595\n",
            "cross validation total time: 14.4321 min\n",
            "\n",
            "Cross-validation: lstm50 model for student-defined labels with zero padded data and with subtitle vectors\n",
            "\n",
            "5-fold cross validation, iteration 1 model trained in 179.546 seconds\n",
            "5-fold cross validation, iteration 2 model trained in 170.852 seconds\n",
            "5-fold cross validation, iteration 3 model trained in 170.077 seconds\n",
            "5-fold cross validation, iteration 4 model trained in 170.701 seconds\n",
            "5-fold cross validation, iteration 5 model trained in 172.307 seconds\n",
            "{'acc': 0.75, 'F1': 0.7171717171717171, 'ROC-AUC': 0.761904761904762}\n",
            "{'acc': 0.4000000059604645, 'F1': 0.4, 'ROC-AUC': 0.14285714285714288}\n",
            "{'acc': 0.44999998807907104, 'F1': 0.5104166666666667, 'ROC-AUC': 0.4210526315789474}\n",
            "{'acc': 0.6000000238418579, 'F1': 0.5151515151515151, 'ROC-AUC': 0.6923076923076923}\n",
            "{'acc': 0.5, 'F1': 0.4040404040404041, 'ROC-AUC': 0.375}\n",
            "\n",
            "Cross-validation: lstm50 model for student-defined labels with zero padded data and with subtitle vectors mean accuracy: 0.540, f1: 0.509, and roc-auc: 0.479\n",
            "cross validation total time: 14.5009 min\n",
            "\n",
            "Cross-validation: confused model for pre-defined labels with truncated data and without subtitle vectors\n",
            "\n",
            "5-fold cross validation, iteration 1 model trained in 140.841 seconds\n",
            "5-fold cross validation, iteration 2 model trained in 132.371 seconds\n",
            "5-fold cross validation, iteration 3 model trained in 132.457 seconds\n",
            "5-fold cross validation, iteration 4 model trained in 132.767 seconds\n",
            "5-fold cross validation, iteration 5 model trained in 132.180 seconds\n",
            "{'acc': 0.5633928179740906, 'F1': 0.727363679846939, 'ROC-AUC': 0.6479481641468684}\n",
            "{'acc': 0.5459821820259094, 'F1': 0.5971647799744898, 'ROC-AUC': 0.6581512605042017}\n",
            "{'acc': 0.4370535910129547, 'F1': 0.4514166135204082, 'ROC-AUC': 0.45856590811507086}\n",
            "{'acc': 0.5843750238418579, 'F1': 0.570237962372449, 'ROC-AUC': 0.5762403277196176}\n",
            "{'acc': 0.5683035850524902, 'F1': 0.5240776466836735, 'ROC-AUC': 0.4971398855954238}\n",
            "\n",
            "Cross-validation: confused model for pre-defined labels with truncated data and without subtitle vectors mean accuracy: 0.540, f1: 0.574, and roc-auc: 0.568\n",
            "cross validation total time: 11.2882 min\n",
            "\n",
            "Cross-validation: confused model for pre-defined labels with truncated data and with subtitle vectors\n",
            "\n",
            "5-fold cross validation, iteration 1 model trained in 141.934 seconds\n",
            "5-fold cross validation, iteration 2 model trained in 133.454 seconds\n",
            "5-fold cross validation, iteration 3 model trained in 133.036 seconds\n",
            "5-fold cross validation, iteration 4 model trained in 133.315 seconds\n",
            "5-fold cross validation, iteration 5 model trained in 133.090 seconds\n",
            "{'acc': 0.9924106597900391, 'F1': 0.9995870535714286, 'ROC-AUC': 0.9924678777137793}\n",
            "{'acc': 0.9053571820259094, 'F1': 0.9141509885204081, 'ROC-AUC': 0.9030192131747485}\n",
            "{'acc': 0.895089328289032, 'F1': 0.9491549744897959, 'ROC-AUC': 0.8989247311827956}\n",
            "{'acc': 0.7165178060531616, 'F1': 0.6324390146683674, 'ROC-AUC': 0.7317279256442754}\n",
            "{'acc': 0.5977678298950195, 'F1': 0.5514732142857142, 'ROC-AUC': 0.5946918578497526}\n",
            "\n",
            "Cross-validation: confused model for pre-defined labels with truncated data and with subtitle vectors mean accuracy: 0.821, f1: 0.809, and roc-auc: 0.824\n",
            "cross validation total time: 11.3751 min\n",
            "\n",
            "Cross-validation: confused model for pre-defined labels with zero padded data and without subtitle vectors\n",
            "\n",
            "5-fold cross validation, iteration 1 model trained in 179.854 seconds\n",
            "5-fold cross validation, iteration 2 model trained in 170.648 seconds\n",
            "5-fold cross validation, iteration 3 model trained in 170.516 seconds\n",
            "5-fold cross validation, iteration 4 model trained in 170.381 seconds\n",
            "5-fold cross validation, iteration 5 model trained in 176.525 seconds\n",
            "{'acc': 0.5045139193534851, 'F1': 0.5045138888888889, 'ROC-AUC': 0.5448165869218501}\n",
            "{'acc': 0.680555522441864, 'F1': 0.7900858410493827, 'ROC-AUC': 0.7377423033067274}\n",
            "{'acc': 0.5309027433395386, 'F1': 0.5371390335648147, 'ROC-AUC': 0.39821826280623607}\n",
            "{'acc': 0.6385416984558105, 'F1': 0.5313474151234568, 'ROC-AUC': 0.7083216587279351}\n",
            "{'acc': 0.6243055462837219, 'F1': 0.6681703317901234, 'ROC-AUC': 0.6484730344379467}\n",
            "\n",
            "Cross-validation: confused model for pre-defined labels with zero padded data and without subtitle vectors mean accuracy: 0.596, f1: 0.606, and roc-auc: 0.608\n",
            "cross validation total time: 14.6011 min\n",
            "\n",
            "Cross-validation: confused model for pre-defined labels with zero padded data and with subtitle vectors\n",
            "\n",
            "5-fold cross validation, iteration 1 model trained in 189.924 seconds\n",
            "5-fold cross validation, iteration 2 model trained in 179.095 seconds\n",
            "5-fold cross validation, iteration 3 model trained in 179.466 seconds\n",
            "5-fold cross validation, iteration 4 model trained in 179.746 seconds\n",
            "5-fold cross validation, iteration 5 model trained in 179.488 seconds\n",
            "{'acc': 0.6138889193534851, 'F1': 0.5418229166666667, 'ROC-AUC': 0.6048329779673063}\n",
            "{'acc': 0.8684027791023254, 'F1': 0.9253800154320988, 'ROC-AUC': 0.8815995001562011}\n",
            "{'acc': 0.8763888478279114, 'F1': 0.964633487654321, 'ROC-AUC': 0.8890274314214464}\n",
            "{'acc': 0.6868055462837219, 'F1': 0.6897738233024692, 'ROC-AUC': 0.7246642246642248}\n",
            "{'acc': 0.8190972208976746, 'F1': 0.9391811342592593, 'ROC-AUC': 0.8452628452628452}\n",
            "\n",
            "Cross-validation: confused model for pre-defined labels with zero padded data and with subtitle vectors mean accuracy: 0.773, f1: 0.812, and roc-auc: 0.789\n",
            "cross validation total time: 15.2767 min\n",
            "\n",
            "Cross-validation: confused model for student-defined labels with truncated data and without subtitle vectors\n",
            "\n",
            "5-fold cross validation, iteration 1 model trained in 150.790 seconds\n",
            "5-fold cross validation, iteration 2 model trained in 139.214 seconds\n",
            "5-fold cross validation, iteration 3 model trained in 139.897 seconds\n",
            "5-fold cross validation, iteration 4 model trained in 139.045 seconds\n",
            "5-fold cross validation, iteration 5 model trained in 139.479 seconds\n",
            "{'acc': 0.7058035731315613, 'F1': 0.7176717751494537, 'ROC-AUC': 0.6629156010230179}\n",
            "{'acc': 0.5513392686843872, 'F1': 0.5857294323979592, 'ROC-AUC': 0.5319049836981835}\n",
            "{'acc': 0.6147321462631226, 'F1': 0.7076656834608844, 'ROC-AUC': 0.7002431399791594}\n",
            "{'acc': 0.5607143044471741, 'F1': 0.5743878517316017, 'ROC-AUC': 0.6561844863731656}\n",
            "{'acc': 0.5464285612106323, 'F1': 0.710416908240569, 'ROC-AUC': 0.6637988087359364}\n",
            "\n",
            "Cross-validation: confused model for student-defined labels with truncated data and without subtitle vectors mean accuracy: 0.596, f1: 0.659, and roc-auc: 0.643\n",
            "cross validation total time: 11.9599 min\n",
            "\n",
            "Cross-validation: confused model for student-defined labels with truncated data and with subtitle vectors\n",
            "\n",
            "5-fold cross validation, iteration 1 model trained in 149.386 seconds\n",
            "5-fold cross validation, iteration 2 model trained in 136.747 seconds\n",
            "5-fold cross validation, iteration 3 model trained in 136.386 seconds\n",
            "5-fold cross validation, iteration 4 model trained in 136.825 seconds\n",
            "5-fold cross validation, iteration 5 model trained in 136.699 seconds\n",
            "{'acc': 0.48839282989501953, 'F1': 0.5472099824778396, 'ROC-AUC': 0.5314799672935405}\n",
            "{'acc': 0.5160714387893677, 'F1': 0.5286989795918369, 'ROC-AUC': 0.48625592417061614}\n",
            "{'acc': 0.5383929014205933, 'F1': 0.47311463647959184, 'ROC-AUC': 0.6589709762532981}\n",
            "{'acc': 0.5491071939468384, 'F1': 0.4883263437950938, 'ROC-AUC': 0.6524432209222298}\n",
            "{'acc': 0.5450892448425293, 'F1': 0.5911152339723769, 'ROC-AUC': 0.6377532883043014}\n",
            "\n",
            "Cross-validation: confused model for student-defined labels with truncated data and with subtitle vectors mean accuracy: 0.527, f1: 0.526, and roc-auc: 0.593\n",
            "cross validation total time: 11.7609 min\n",
            "\n",
            "Cross-validation: confused model for student-defined labels with zero padded data and without subtitle vectors\n",
            "\n",
            "5-fold cross validation, iteration 1 model trained in 186.608 seconds\n",
            "5-fold cross validation, iteration 2 model trained in 174.247 seconds\n",
            "5-fold cross validation, iteration 3 model trained in 174.459 seconds\n",
            "5-fold cross validation, iteration 4 model trained in 174.045 seconds\n",
            "5-fold cross validation, iteration 5 model trained in 174.096 seconds\n",
            "{'acc': 0.6729166507720947, 'F1': 0.7789765907532111, 'ROC-AUC': 0.7219598583234947}\n",
            "{'acc': 0.4520833492279053, 'F1': 0.47704571759259257, 'ROC-AUC': 0.2794520547945205}\n",
            "{'acc': 0.5687499642372131, 'F1': 0.614817427019033, 'ROC-AUC': 0.5975372650680493}\n",
            "{'acc': 0.6451388597488403, 'F1': 0.5743622081151016, 'ROC-AUC': 0.7330198537095088}\n",
            "{'acc': 0.508680522441864, 'F1': 0.6179293903541588, 'ROC-AUC': 0.6160108548168249}\n",
            "\n",
            "Cross-validation: confused model for student-defined labels with zero padded data and without subtitle vectors mean accuracy: 0.570, f1: 0.613, and roc-auc: 0.590\n",
            "cross validation total time: 14.8983 min\n",
            "\n",
            "Cross-validation: confused model for student-defined labels with zero padded data and with subtitle vectors\n",
            "\n",
            "5-fold cross validation, iteration 1 model trained in 188.747 seconds\n",
            "5-fold cross validation, iteration 2 model trained in 175.079 seconds\n",
            "5-fold cross validation, iteration 3 model trained in 175.498 seconds\n",
            "5-fold cross validation, iteration 4 model trained in 176.326 seconds\n",
            "5-fold cross validation, iteration 5 model trained in 174.610 seconds\n",
            "{'acc': 0.6576389074325562, 'F1': 0.7627723999251776, 'ROC-AUC': 0.7103407755581668}\n",
            "{'acc': 0.4826388955116272, 'F1': 0.42298514660493824, 'ROC-AUC': 0.35497835497835495}\n",
            "{'acc': 0.6697916984558105, 'F1': 0.6485671055169753, 'ROC-AUC': 0.7173848439821694}\n",
            "{'acc': 0.5211805105209351, 'F1': 0.5372053384929543, 'ROC-AUC': 0.6225020531070353}\n",
            "{'acc': 0.6142361164093018, 'F1': 0.615705667789001, 'ROC-AUC': 0.6874824191279887}\n",
            "\n",
            "Cross-validation: confused model for student-defined labels with zero padded data and with subtitle vectors mean accuracy: 0.589, f1: 0.597, and roc-auc: 0.619\n",
            "cross validation total time: 15.0206 min\n",
            "\n",
            "Cross-validation: mehmani model for pre-defined labels with truncated data and without subtitle vectors\n",
            "\n",
            "5-fold cross validation, iteration 1 model trained in 23.447 seconds\n",
            "5-fold cross validation, iteration 2 model trained in 4.345 seconds\n",
            "5-fold cross validation, iteration 3 model trained in 4.286 seconds\n",
            "5-fold cross validation, iteration 4 model trained in 4.357 seconds\n",
            "5-fold cross validation, iteration 5 model trained in 4.403 seconds\n",
            "{'acc': 0.6499999761581421, 'F1': 0.7, 'ROC-AUC': 0.7407407407407407}\n",
            "{'acc': 0.5, 'F1': 0.44999999999999996, 'ROC-AUC': 0.0}\n",
            "{'acc': 0.5, 'F1': 0.5, 'ROC-AUC': 0.6666666666666666}\n",
            "{'acc': 0.6000000238418579, 'F1': 0.45999999999999996, 'ROC-AUC': 0.7142857142857143}\n",
            "{'acc': 0.5, 'F1': 0.5700000000000001, 'ROC-AUC': 0.6666666666666666}\n",
            "\n",
            "Cross-validation: mehmani model for pre-defined labels with truncated data and without subtitle vectors mean accuracy: 0.550, f1: 0.536, and roc-auc: 0.558\n",
            "cross validation total time: 0.8555 min\n",
            "\n",
            "Cross-validation: mehmani model for pre-defined labels with truncated data and with subtitle vectors\n",
            "\n",
            "5-fold cross validation, iteration 1 model trained in 22.736 seconds\n",
            "5-fold cross validation, iteration 2 model trained in 4.543 seconds\n",
            "5-fold cross validation, iteration 3 model trained in 4.605 seconds\n",
            "5-fold cross validation, iteration 4 model trained in 4.545 seconds\n",
            "5-fold cross validation, iteration 5 model trained in 4.603 seconds\n",
            "{'acc': 1.0, 'F1': 1.0, 'ROC-AUC': 1.0}\n",
            "{'acc': 1.0, 'F1': 1.0, 'ROC-AUC': 1.0}\n",
            "{'acc': 1.0, 'F1': 1.0, 'ROC-AUC': 1.0}\n",
            "{'acc': 1.0, 'F1': 1.0, 'ROC-AUC': 1.0}\n",
            "{'acc': 1.0, 'F1': 1.0, 'ROC-AUC': 1.0}\n",
            "\n",
            "Cross-validation: mehmani model for pre-defined labels with truncated data and with subtitle vectors mean accuracy: 1.000, f1: 1.000, and roc-auc: 1.000\n",
            "cross validation total time: 0.8744 min\n",
            "\n",
            "Cross-validation: mehmani model for pre-defined labels with zero padded data and without subtitle vectors\n",
            "\n",
            "5-fold cross validation, iteration 1 model trained in 23.618 seconds\n",
            "5-fold cross validation, iteration 2 model trained in 4.303 seconds\n",
            "5-fold cross validation, iteration 3 model trained in 4.307 seconds\n",
            "5-fold cross validation, iteration 4 model trained in 4.312 seconds\n",
            "5-fold cross validation, iteration 5 model trained in 4.388 seconds\n",
            "{'acc': 0.800000011920929, 'F1': 0.85, 'ROC-AUC': 0.8333333333333333}\n",
            "{'acc': 0.75, 'F1': 0.7899999999999999, 'ROC-AUC': 0.761904761904762}\n",
            "{'acc': 0.800000011920929, 'F1': 0.8300000000000001, 'ROC-AUC': 0.8333333333333333}\n",
            "{'acc': 0.75, 'F1': 0.85, 'ROC-AUC': 0.7826086956521738}\n",
            "{'acc': 0.800000011920929, 'F1': 0.8200000000000001, 'ROC-AUC': 0.8333333333333333}\n",
            "\n",
            "Cross-validation: mehmani model for pre-defined labels with zero padded data and without subtitle vectors mean accuracy: 0.780, f1: 0.828, and roc-auc: 0.809\n",
            "cross validation total time: 0.9075 min\n",
            "\n",
            "Cross-validation: mehmani model for pre-defined labels with zero padded data and with subtitle vectors\n",
            "\n",
            "5-fold cross validation, iteration 1 model trained in 24.912 seconds\n",
            "5-fold cross validation, iteration 2 model trained in 4.642 seconds\n",
            "5-fold cross validation, iteration 3 model trained in 4.700 seconds\n",
            "5-fold cross validation, iteration 4 model trained in 4.648 seconds\n",
            "5-fold cross validation, iteration 5 model trained in 4.641 seconds\n",
            "{'acc': 1.0, 'F1': 1.0, 'ROC-AUC': 1.0}\n",
            "{'acc': 1.0, 'F1': 1.0, 'ROC-AUC': 1.0}\n",
            "{'acc': 1.0, 'F1': 1.0, 'ROC-AUC': 1.0}\n",
            "{'acc': 1.0, 'F1': 1.0, 'ROC-AUC': 1.0}\n",
            "{'acc': 1.0, 'F1': 1.0, 'ROC-AUC': 1.0}\n",
            "\n",
            "Cross-validation: mehmani model for pre-defined labels with zero padded data and with subtitle vectors mean accuracy: 1.000, f1: 1.000, and roc-auc: 1.000\n",
            "cross validation total time: 0.9509 min\n",
            "\n",
            "Cross-validation: mehmani model for student-defined labels with truncated data and without subtitle vectors\n",
            "\n",
            "5-fold cross validation, iteration 1 model trained in 25.686 seconds\n",
            "5-fold cross validation, iteration 2 model trained in 4.312 seconds\n",
            "5-fold cross validation, iteration 3 model trained in 4.300 seconds\n",
            "5-fold cross validation, iteration 4 model trained in 4.335 seconds\n",
            "5-fold cross validation, iteration 5 model trained in 4.306 seconds\n",
            "{'acc': 0.800000011920929, 'F1': 0.8888888888888888, 'ROC-AUC': 0.75}\n",
            "{'acc': 0.5, 'F1': 0.56, 'ROC-AUC': 0.4444444444444445}\n",
            "{'acc': 0.699999988079071, 'F1': 0.78125, 'ROC-AUC': 0.7000000000000001}\n",
            "{'acc': 0.6000000238418579, 'F1': 0.6767676767676767, 'ROC-AUC': 0.6666666666666667}\n",
            "{'acc': 0.44999998807907104, 'F1': 0.9797979797979798, 'ROC-AUC': 0.6206896551724138}\n",
            "\n",
            "Cross-validation: mehmani model for student-defined labels with truncated data and without subtitle vectors mean accuracy: 0.610, f1: 0.777, and roc-auc: 0.636\n",
            "cross validation total time: 0.9577 min\n",
            "\n",
            "Cross-validation: mehmani model for student-defined labels with truncated data and with subtitle vectors\n",
            "\n",
            "5-fold cross validation, iteration 1 model trained in 27.168 seconds\n",
            "5-fold cross validation, iteration 2 model trained in 4.701 seconds\n",
            "5-fold cross validation, iteration 3 model trained in 4.614 seconds\n",
            "5-fold cross validation, iteration 4 model trained in 4.673 seconds\n",
            "5-fold cross validation, iteration 5 model trained in 4.664 seconds\n",
            "{'acc': 0.699999988079071, 'F1': 0.7575757575757576, 'ROC-AUC': 0.7000000000000001}\n",
            "{'acc': 0.550000011920929, 'F1': 0.62, 'ROC-AUC': 0.5263157894736842}\n",
            "{'acc': 0.6499999761581421, 'F1': 0.7083333333333334, 'ROC-AUC': 0.631578947368421}\n",
            "{'acc': 0.6499999761581421, 'F1': 0.6161616161616162, 'ROC-AUC': 0.7200000000000001}\n",
            "{'acc': 0.6499999761581421, 'F1': 0.7070707070707071, 'ROC-AUC': 0.72}\n",
            "\n",
            "Cross-validation: mehmani model for student-defined labels with truncated data and with subtitle vectors mean accuracy: 0.640, f1: 0.682, and roc-auc: 0.660\n",
            "cross validation total time: 1.0420 min\n",
            "\n",
            "Cross-validation: mehmani model for student-defined labels with zero padded data and without subtitle vectors\n",
            "\n",
            "5-fold cross validation, iteration 1 model trained in 28.042 seconds\n",
            "5-fold cross validation, iteration 2 model trained in 4.417 seconds\n",
            "5-fold cross validation, iteration 3 model trained in 4.370 seconds\n",
            "5-fold cross validation, iteration 4 model trained in 4.397 seconds\n",
            "5-fold cross validation, iteration 5 model trained in 4.406 seconds\n",
            "{'acc': 0.75, 'F1': 0.9090909090909092, 'ROC-AUC': 0.7058823529411765}\n",
            "{'acc': 0.44999998807907104, 'F1': 0.48, 'ROC-AUC': 0.4210526315789474}\n",
            "{'acc': 0.75, 'F1': 0.8333333333333333, 'ROC-AUC': 0.7368421052631579}\n",
            "{'acc': 0.550000011920929, 'F1': 0.6262626262626263, 'ROC-AUC': 0.64}\n",
            "{'acc': 0.44999998807907104, 'F1': 0.8686868686868687, 'ROC-AUC': 0.6206896551724138}\n",
            "\n",
            "Cross-validation: mehmani model for student-defined labels with zero padded data and without subtitle vectors mean accuracy: 0.590, f1: 0.743, and roc-auc: 0.625\n",
            "cross validation total time: 1.0359 min\n",
            "\n",
            "Cross-validation: mehmani model for student-defined labels with zero padded data and with subtitle vectors\n",
            "\n",
            "5-fold cross validation, iteration 1 model trained in 29.331 seconds\n",
            "5-fold cross validation, iteration 2 model trained in 4.762 seconds\n",
            "5-fold cross validation, iteration 3 model trained in 4.810 seconds\n",
            "5-fold cross validation, iteration 4 model trained in 4.806 seconds\n",
            "5-fold cross validation, iteration 5 model trained in 4.827 seconds\n",
            "{'acc': 0.699999988079071, 'F1': 0.7575757575757576, 'ROC-AUC': 0.6666666666666666}\n",
            "{'acc': 0.4000000059604645, 'F1': 0.43000000000000005, 'ROC-AUC': 0.25}\n",
            "{'acc': 0.4000000059604645, 'F1': 0.6458333333333333, 'ROC-AUC': 0.14285714285714285}\n",
            "{'acc': 0.6000000238418579, 'F1': 0.5151515151515151, 'ROC-AUC': 0.6923076923076923}\n",
            "{'acc': 0.550000011920929, 'F1': 0.6161616161616161, 'ROC-AUC': 0.6666666666666666}\n",
            "\n",
            "Cross-validation: mehmani model for student-defined labels with zero padded data and with subtitle vectors mean accuracy: 0.530, f1: 0.593, and roc-auc: 0.484\n",
            "cross validation total time: 1.1035 min\n",
            "\n"
          ],
          "name": "stdout"
        }
      ]
    },
    {
      "metadata": {
        "id": "9hsCSQgFtmlE",
        "colab_type": "code",
        "colab": {
          "base_uri": "https://localhost:8080/",
          "height": 882
        },
        "outputId": "412fda37-0d00-4039-8842-1d994f756345"
      },
      "cell_type": "code",
      "source": [
        "print(*result_dict.values(), sep='\\n')"
      ],
      "execution_count": 21,
      "outputs": [
        {
          "output_type": "stream",
          "text": [
            "\n",
            "Cross-validation: lstm50 model for pre-defined labels with truncated data and without subtitle vectors mean accuracy: 0.580, f1: 0.628, and roc-auc: 0.615\n",
            "\n",
            "Cross-validation: lstm50 model for pre-defined labels with truncated data and with subtitle vectors mean accuracy: 0.630, f1: 0.640, and roc-auc: 0.585\n",
            "\n",
            "Cross-validation: lstm50 model for pre-defined labels with zero padded data and without subtitle vectors mean accuracy: 0.650, f1: 0.694, and roc-auc: 0.626\n",
            "\n",
            "Cross-validation: lstm50 model for pre-defined labels with zero padded data and with subtitle vectors mean accuracy: 0.700, f1: 0.720, and roc-auc: 0.763\n",
            "\n",
            "Cross-validation: lstm50 model for student-defined labels with truncated data and without subtitle vectors mean accuracy: 0.510, f1: 0.616, and roc-auc: 0.534\n",
            "\n",
            "Cross-validation: lstm50 model for student-defined labels with truncated data and with subtitle vectors mean accuracy: 0.510, f1: 0.492, and roc-auc: 0.468\n",
            "\n",
            "Cross-validation: lstm50 model for student-defined labels with zero padded data and without subtitle vectors mean accuracy: 0.560, f1: 0.539, and roc-auc: 0.595\n",
            "\n",
            "Cross-validation: lstm50 model for student-defined labels with zero padded data and with subtitle vectors mean accuracy: 0.540, f1: 0.509, and roc-auc: 0.479\n",
            "\n",
            "Cross-validation: confused model for pre-defined labels with truncated data and without subtitle vectors mean accuracy: 0.540, f1: 0.574, and roc-auc: 0.568\n",
            "\n",
            "Cross-validation: confused model for pre-defined labels with truncated data and with subtitle vectors mean accuracy: 0.821, f1: 0.809, and roc-auc: 0.824\n",
            "\n",
            "Cross-validation: confused model for pre-defined labels with zero padded data and without subtitle vectors mean accuracy: 0.596, f1: 0.606, and roc-auc: 0.608\n",
            "\n",
            "Cross-validation: confused model for pre-defined labels with zero padded data and with subtitle vectors mean accuracy: 0.773, f1: 0.812, and roc-auc: 0.789\n",
            "\n",
            "Cross-validation: confused model for student-defined labels with truncated data and without subtitle vectors mean accuracy: 0.596, f1: 0.659, and roc-auc: 0.643\n",
            "\n",
            "Cross-validation: confused model for student-defined labels with truncated data and with subtitle vectors mean accuracy: 0.527, f1: 0.526, and roc-auc: 0.593\n",
            "\n",
            "Cross-validation: confused model for student-defined labels with zero padded data and without subtitle vectors mean accuracy: 0.570, f1: 0.613, and roc-auc: 0.590\n",
            "\n",
            "Cross-validation: confused model for student-defined labels with zero padded data and with subtitle vectors mean accuracy: 0.589, f1: 0.597, and roc-auc: 0.619\n",
            "\n",
            "Cross-validation: mehmani model for pre-defined labels with truncated data and without subtitle vectors mean accuracy: 0.550, f1: 0.536, and roc-auc: 0.558\n",
            "\n",
            "Cross-validation: mehmani model for pre-defined labels with truncated data and with subtitle vectors mean accuracy: 1.000, f1: 1.000, and roc-auc: 1.000\n",
            "\n",
            "Cross-validation: mehmani model for pre-defined labels with zero padded data and without subtitle vectors mean accuracy: 0.780, f1: 0.828, and roc-auc: 0.809\n",
            "\n",
            "Cross-validation: mehmani model for pre-defined labels with zero padded data and with subtitle vectors mean accuracy: 1.000, f1: 1.000, and roc-auc: 1.000\n",
            "\n",
            "Cross-validation: mehmani model for student-defined labels with truncated data and without subtitle vectors mean accuracy: 0.610, f1: 0.777, and roc-auc: 0.636\n",
            "\n",
            "Cross-validation: mehmani model for student-defined labels with truncated data and with subtitle vectors mean accuracy: 0.640, f1: 0.682, and roc-auc: 0.660\n",
            "\n",
            "Cross-validation: mehmani model for student-defined labels with zero padded data and without subtitle vectors mean accuracy: 0.590, f1: 0.743, and roc-auc: 0.625\n",
            "\n",
            "Cross-validation: mehmani model for student-defined labels with zero padded data and with subtitle vectors mean accuracy: 0.530, f1: 0.593, and roc-auc: 0.484\n"
          ],
          "name": "stdout"
        }
      ]
    }
  ]
}